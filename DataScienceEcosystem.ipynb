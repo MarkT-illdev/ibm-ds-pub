{
 "cells": [
  {
   "cell_type": "markdown",
   "id": "484caef7-7898-494d-9a36-6c971987b0fd",
   "metadata": {},
   "source": [
    "# Data Science Tools and Ecotytsm\n",
    "### In this notebook, Data Science Tools and Ecosystem are summarized."
   ]
  },
  {
   "cell_type": "markdown",
   "id": "cd8261ba-0370-472a-b0fc-5bf565653306",
   "metadata": {},
   "source": [
    "### __Objectives:__\n",
    "#### Where to find open data\n",
    "- Open data portal list (datacatalogs.org)\n",
    "- Governmental, intergovernmental and organization websites (data.un.org, www.data.gov)\n",
    "- Kaggle (www.kaggle.com/data_sets)\n",
    "- Google data set search (data_setsearch.reserch.google.com)"
   ]
  },
  {
   "cell_type": "markdown",
   "id": "bcd4ee12-ef83-44fe-b765-394d9bcb0119",
   "metadata": {},
   "source": [
    "### 4. Some of the popular languages that Data Scientists use are:"
   ]
  },
  {
   "cell_type": "code",
   "execution_count": 9,
   "id": "c5acec4e-db48-40e6-a460-88732c510099",
   "metadata": {},
   "outputs": [
    {
     "data": {
      "text/plain": [
       "['Python', 'R', 'Scala']"
      ]
     },
     "execution_count": 9,
     "metadata": {},
     "output_type": "execute_result"
    }
   ],
   "source": [
    "ordered_list = [\"Python\", \"R\", \"Scala\"]\n",
    "ordered_list"
   ]
  },
  {
   "cell_type": "markdown",
   "id": "eb07d1ac-88f7-40dc-ae95-8360913eeb4a",
   "metadata": {},
   "source": [
    "### 5. Some of the commonly used libraries used by Data Scientists include:"
   ]
  },
  {
   "cell_type": "code",
   "execution_count": 10,
   "id": "0db27674-b4f9-44ec-84e2-18142f1cce8e",
   "metadata": {},
   "outputs": [
    {
     "data": {
      "text/plain": [
       "['Python', 'R', 'Scala', 'TehsowFlow', 'Keras', 'Scikit-learn']"
      ]
     },
     "execution_count": 10,
     "metadata": {},
     "output_type": "execute_result"
    }
   ],
   "source": [
    "ordered_list.extend([\"TehsowFlow\", \"Keras\", \"Scikit-learn\"])\n",
    "ordered_list"
   ]
  },
  {
   "cell_type": "markdown",
   "id": "a9b8bc31-87ca-4100-a6ef-36b4ce782b3f",
   "metadata": {},
   "source": [
    "### 6. "
   ]
  },
  {
   "cell_type": "code",
   "execution_count": 11,
   "id": "3aae7b1b-7219-4f09-a59c-bda19958e5b6",
   "metadata": {},
   "outputs": [
    {
     "data": {
      "text/html": [
       "<div>\n",
       "<style scoped>\n",
       "    .dataframe tbody tr th:only-of-type {\n",
       "        vertical-align: middle;\n",
       "    }\n",
       "\n",
       "    .dataframe tbody tr th {\n",
       "        vertical-align: top;\n",
       "    }\n",
       "\n",
       "    .dataframe thead th {\n",
       "        text-align: right;\n",
       "    }\n",
       "</style>\n",
       "<table border=\"1\" class=\"dataframe\">\n",
       "  <thead>\n",
       "    <tr style=\"text-align: right;\">\n",
       "      <th></th>\n",
       "      <th>Name</th>\n",
       "    </tr>\n",
       "  </thead>\n",
       "  <tbody>\n",
       "    <tr>\n",
       "      <th>0</th>\n",
       "      <td>TehsowFlow</td>\n",
       "    </tr>\n",
       "    <tr>\n",
       "      <th>1</th>\n",
       "      <td>Keras</td>\n",
       "    </tr>\n",
       "    <tr>\n",
       "      <th>2</th>\n",
       "      <td>Scikit-learn</td>\n",
       "    </tr>\n",
       "  </tbody>\n",
       "</table>\n",
       "</div>"
      ],
      "text/plain": [
       "           Name\n",
       "0    TehsowFlow\n",
       "1         Keras\n",
       "2  Scikit-learn"
      ]
     },
     "execution_count": 11,
     "metadata": {},
     "output_type": "execute_result"
    }
   ],
   "source": [
    "import pandas as pd\n",
    "data = {'Name': ordered_list[3:]}\n",
    "df = pd.DataFrame(data)\n",
    "df"
   ]
  },
  {
   "cell_type": "markdown",
   "id": "6db08683-a6c4-4030-8ef7-dfb84db380b7",
   "metadata": {},
   "source": [
    "### 7. Below are a few examples of evaluating arithmetic expressions in Python"
   ]
  },
  {
   "cell_type": "code",
   "execution_count": 4,
   "id": "b5cbf13b-f4ce-4d0f-bb5a-ad45d79054cd",
   "metadata": {},
   "outputs": [
    {
     "data": {
      "text/plain": [
       "5"
      ]
     },
     "execution_count": 4,
     "metadata": {},
     "output_type": "execute_result"
    }
   ],
   "source": [
    "a = 2\n",
    "b = 3\n",
    "a + b"
   ]
  },
  {
   "cell_type": "code",
   "execution_count": 5,
   "id": "528988a9-79b5-4bea-b6c1-07ab26f7940b",
   "metadata": {},
   "outputs": [
    {
     "data": {
      "text/plain": [
       "8"
      ]
     },
     "execution_count": 5,
     "metadata": {},
     "output_type": "execute_result"
    }
   ],
   "source": [
    "a ** b"
   ]
  },
  {
   "cell_type": "code",
   "execution_count": 6,
   "id": "bb7b09b1-2fef-4ac3-afaa-43cb2318675a",
   "metadata": {},
   "outputs": [
    {
     "data": {
      "text/plain": [
       "0"
      ]
     },
     "execution_count": 6,
     "metadata": {},
     "output_type": "execute_result"
    }
   ],
   "source": [
    "a // b"
   ]
  },
  {
   "cell_type": "markdown",
   "id": "b920f31e-3171-48aa-9b59-c5760adfe08c",
   "metadata": {},
   "source": [
    "### 8"
   ]
  },
  {
   "cell_type": "code",
   "execution_count": 7,
   "id": "f7ef9db3-664d-47a4-bb9f-40f1722adfea",
   "metadata": {},
   "outputs": [
    {
     "data": {
      "text/plain": [
       "17"
      ]
     },
     "execution_count": 7,
     "metadata": {},
     "output_type": "execute_result"
    }
   ],
   "source": [
    "#This a simple arithmetic expression to mutiply then add integers\n",
    "(3*4)+5"
   ]
  },
  {
   "cell_type": "markdown",
   "id": "9b5919a1-d452-49de-bee0-e4ad09c9970a",
   "metadata": {},
   "source": [
    "### 9"
   ]
  },
  {
   "cell_type": "code",
   "execution_count": 8,
   "id": "a3d9e4ea-aba8-4287-8f2d-b540ac48e91c",
   "metadata": {},
   "outputs": [
    {
     "data": {
      "text/plain": [
       "3.3333333333333335"
      ]
     },
     "execution_count": 8,
     "metadata": {},
     "output_type": "execute_result"
    }
   ],
   "source": [
    "#This will convert 200 minutes to hours by diving by 60\n",
    "200/60"
   ]
  },
  {
   "cell_type": "markdown",
   "id": "e394c543-e74a-4426-95c0-4993d1152f1a",
   "metadata": {},
   "source": [
    "### 11\n",
    "## Author\n",
    "Mark T"
   ]
  }
 ],
 "metadata": {
  "kernelspec": {
   "display_name": "Python 3 (ipykernel)",
   "language": "python",
   "name": "python3"
  },
  "language_info": {
   "codemirror_mode": {
    "name": "ipython",
    "version": 3
   },
   "file_extension": ".py",
   "mimetype": "text/x-python",
   "name": "python",
   "nbconvert_exporter": "python",
   "pygments_lexer": "ipython3",
   "version": "3.9.19"
  }
 },
 "nbformat": 4,
 "nbformat_minor": 5
}
